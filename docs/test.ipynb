{
 "cells": [
  {
   "cell_type": "code",
   "execution_count": 2,
   "metadata": {},
   "outputs": [
    {
     "ename": "ModuleNotFoundError",
     "evalue": "No module named 'dictcruncher.dictmapper'",
     "output_type": "error",
     "traceback": [
      "\u001b[0;31m---------------------------------------------------------------------------\u001b[0m",
      "\u001b[0;31mModuleNotFoundError\u001b[0m                       Traceback (most recent call last)",
      "\u001b[1;32m/home/trojo/projects/dictmapper/test.ipynb Cell 1\u001b[0m line \u001b[0;36m1\n\u001b[0;32m----> <a href='vscode-notebook-cell:/home/trojo/projects/dictmapper/test.ipynb#W0sZmlsZQ%3D%3D?line=0'>1</a>\u001b[0m \u001b[39mimport\u001b[39;00m \u001b[39mdictcruncher\u001b[39;00m \u001b[39mas\u001b[39;00m \u001b[39mdc\u001b[39;00m\n\u001b[1;32m      <a href='vscode-notebook-cell:/home/trojo/projects/dictmapper/test.ipynb#W0sZmlsZQ%3D%3D?line=2'>3</a>\u001b[0m in_dict \u001b[39m=\u001b[39m [\n\u001b[1;32m      <a href='vscode-notebook-cell:/home/trojo/projects/dictmapper/test.ipynb#W0sZmlsZQ%3D%3D?line=3'>4</a>\u001b[0m     {\n\u001b[1;32m      <a href='vscode-notebook-cell:/home/trojo/projects/dictmapper/test.ipynb#W0sZmlsZQ%3D%3D?line=4'>5</a>\u001b[0m         \u001b[39m\"\u001b[39m\u001b[39mtransaction_id\u001b[39m\u001b[39m\"\u001b[39m: \u001b[39m1\u001b[39m,\n\u001b[0;32m   (...)\u001b[0m\n\u001b[1;32m     <a href='vscode-notebook-cell:/home/trojo/projects/dictmapper/test.ipynb#W0sZmlsZQ%3D%3D?line=12'>13</a>\u001b[0m     \n\u001b[1;32m     <a href='vscode-notebook-cell:/home/trojo/projects/dictmapper/test.ipynb#W0sZmlsZQ%3D%3D?line=13'>14</a>\u001b[0m ]\n\u001b[1;32m     <a href='vscode-notebook-cell:/home/trojo/projects/dictmapper/test.ipynb#W0sZmlsZQ%3D%3D?line=15'>16</a>\u001b[0m table_config \u001b[39m=\u001b[39m {\n\u001b[1;32m     <a href='vscode-notebook-cell:/home/trojo/projects/dictmapper/test.ipynb#W0sZmlsZQ%3D%3D?line=16'>17</a>\u001b[0m     \u001b[39m'\u001b[39m\u001b[39mtips_only\u001b[39m\u001b[39m'\u001b[39m: [\n\u001b[1;32m     <a href='vscode-notebook-cell:/home/trojo/projects/dictmapper/test.ipynb#W0sZmlsZQ%3D%3D?line=17'>18</a>\u001b[0m         dc\u001b[39m.\u001b[39mMapperLocation(location\u001b[39m=\u001b[39m\u001b[39m'\u001b[39m\u001b[39mroot::transaction_id\u001b[39m\u001b[39m'\u001b[39m, column_name\u001b[39m=\u001b[39m\u001b[39m'\u001b[39m\u001b[39mtransaction_id\u001b[39m\u001b[39m'\u001b[39m),\n\u001b[0;32m   (...)\u001b[0m\n\u001b[1;32m     <a href='vscode-notebook-cell:/home/trojo/projects/dictmapper/test.ipynb#W0sZmlsZQ%3D%3D?line=22'>23</a>\u001b[0m     ]\n\u001b[1;32m     <a href='vscode-notebook-cell:/home/trojo/projects/dictmapper/test.ipynb#W0sZmlsZQ%3D%3D?line=23'>24</a>\u001b[0m }\n",
      "File \u001b[0;32m~/projects/dictmapper/dictcruncher/__init__.py:1\u001b[0m\n\u001b[0;32m----> 1\u001b[0m \u001b[39mfrom\u001b[39;00m \u001b[39m.\u001b[39;00m\u001b[39mdictmapper\u001b[39;00m \u001b[39mimport\u001b[39;00m \u001b[39m*\u001b[39m\n",
      "\u001b[0;31mModuleNotFoundError\u001b[0m: No module named 'dictcruncher.dictmapper'"
     ]
    }
   ],
   "source": [
    "import dictcruncher as dc\n",
    "\n",
    "in_dict = [\n",
    "    {\n",
    "        \"transaction_id\": 1,\n",
    "        \"total_amount\": 1000,\n",
    "        \"tip_amount\": 300\n",
    "    },\n",
    "    {\n",
    "        \"transaction_id\": 2,\n",
    "        \"total_amount\": 1000\n",
    "    },\n",
    "    \n",
    "]\n",
    "\n",
    "table_config = {\n",
    "    'tips_only': [\n",
    "        dc.MapperLocation(location='root::transaction_id', column_name='transaction_id'),\n",
    "        dc.MapperLocation(location='root::total_amount', column_name='total_amount', coalesce_value=0),\n",
    "        \n",
    "        # if_missing supports 'drop' to drop object or 'fail' to raise an exception.\n",
    "        dc.MapperLocation(location='root::tip_amount', column_name='tip_amount', if_missing='drop')\n",
    "    ]\n",
    "}\n",
    "\n",
    "in_dictmapper = dc.DictCruncher(in_dict_list=in_dict, mapper=table_config)\n",
    "\n",
    "flattened = in_dictmapper.get_records(table_name='tips_only')\n",
    "\n",
    "# Flattened\n",
    "# [\n",
    "#     {\n",
    "#         \"transaction_id\": 1,\n",
    "#         \"total_amount\": 1000,\n",
    "#         \"tip_amount\": 300\n",
    "#     }\n",
    "# ]"
   ]
  },
  {
   "cell_type": "code",
   "execution_count": 14,
   "metadata": {},
   "outputs": [
    {
     "name": "stdout",
     "output_type": "stream",
     "text": [
      "[{'transaction_id': 1, 'total_amount': 1000, 'tip_amount': 300}]\n"
     ]
    }
   ],
   "source": [
    "print(flattened)\n",
    "import pyperclip\n",
    "import json\n",
    "\n",
    "pyperclip.copy(json.dumps(flattened, indent=4))"
   ]
  },
  {
   "cell_type": "code",
   "execution_count": null,
   "metadata": {},
   "outputs": [],
   "source": []
  }
 ],
 "metadata": {
  "kernelspec": {
   "display_name": "Python 3",
   "language": "python",
   "name": "python3"
  },
  "language_info": {
   "codemirror_mode": {
    "name": "ipython",
    "version": 3
   },
   "file_extension": ".py",
   "mimetype": "text/x-python",
   "name": "python",
   "nbconvert_exporter": "python",
   "pygments_lexer": "ipython3",
   "version": "3.10.12"
  }
 },
 "nbformat": 4,
 "nbformat_minor": 2
}
